{
 "cells": [
  {
   "cell_type": "code",
   "execution_count": 2,
   "metadata": {
    "collapsed": false
   },
   "outputs": [
    {
     "name": "stdout",
     "output_type": "stream",
     "text": [
      "0.18.0\n"
     ]
    },
    {
     "name": "stderr",
     "output_type": "stream",
     "text": [
      "/usr/local/lib/python2.7/site-packages/IPython/core/interactiveshell.py:2885: FutureWarning: \n",
      "mpl_style had been deprecated and will be removed in a future version.\n",
      "Use `matplotlib.pyplot.style.use` instead.\n",
      "\n",
      "  exec(code_obj, self.user_global_ns, self.user_ns)\n"
     ]
    }
   ],
   "source": [
    "import numpy as np\n",
    "import pandas as pd\n",
    "import matplotlib.pyplot as plt\n",
    "from pandas import Series, DataFrame\n",
    "\n",
    "%matplotlib inline\n",
    "pd.options.display.mpl_style = 'default'\n",
    "#print pd.__version__\n",
    "########################################\n",
    "\n",
    "import os\n",
    "from IPython.core.display import HTML"
   ]
  },
  {
   "cell_type": "markdown",
   "metadata": {},
   "source": [
    "Converting Given JSON by cleaning it by following methods\n",
    "\n",
    "Adding a comma after every line of each file, removing the last comma of each file and prepend '[' and ']' at first and last character of each file respectively"
   ]
  },
  {
   "cell_type": "code",
   "execution_count": 4,
   "metadata": {
    "collapsed": false,
    "scrolled": true
   },
   "outputs": [
    {
     "name": "stdout",
     "output_type": "stream",
     "text": [
      "YELP_RAW_JSON_DATA_DIR : ../yelp_dataset_challenge_academic_dataset\n",
      "total 7385544\n",
      "    784 Dataset_Challenge_Academic_Dataset_Agreement.pdf\n",
      "      0 \u001b[34mOutput_Directory\u001b[m\u001b[m\n",
      "      0 \u001b[34mProcessed_Data_Dir\u001b[m\u001b[m\n",
      "    472 Yelp_Dataset_Challenge_Terms_round_7.pdf\n",
      " 134840 yelp_academic_dataset_business.json\n",
      "  49840 yelp_academic_dataset_checkin.json\n",
      "1635792 yelp_academic_dataset_review_p1.json\n",
      "1627624 yelp_academic_dataset_review_p2.json\n",
      "1579104 yelp_academic_dataset_review_p3.json\n",
      "1663552 yelp_academic_dataset_review_p4.json\n",
      " 231856 yelp_academic_dataset_tip.json\n",
      " 461680 yelp_academic_dataset_user.json\n",
      "\n",
      "PROCESSED_YELP_JSON_DATA_DIR : ../yelp_dataset_challenge_academic_dataset/Processed_Data_Dir\n",
      "total 12173440\n",
      " 619968 BRUT_p1.csv\n",
      " 109024 yelp_academic_dataset_business.csv\n",
      " 134992 \u001b[31myelp_academic_dataset_business.json\u001b[m\u001b[m\n",
      "  49952 \u001b[31myelp_academic_dataset_checkin.json\u001b[m\u001b[m\n",
      "3794912 \u001b[31myelp_academic_dataset_review.json\u001b[m\u001b[m\n",
      "1637640 \u001b[31myelp_academic_dataset_review_p1.json\u001b[m\u001b[m\n",
      "1629472 \u001b[31myelp_academic_dataset_review_p2.json\u001b[m\u001b[m\n",
      "1580952 \u001b[31myelp_academic_dataset_review_p3.json\u001b[m\u001b[m\n",
      "1665400 \u001b[31myelp_academic_dataset_review_p4.json\u001b[m\u001b[m\n",
      " 233008 \u001b[31myelp_academic_dataset_tip.json\u001b[m\u001b[m\n",
      " 255360 yelp_academic_dataset_user.csv\n",
      " 462760 \u001b[31myelp_academic_dataset_user.json\u001b[m\u001b[m\n",
      "\n",
      "YELP_CSV_DATA_DIR : ../yelp_dataset_challenge_academic_dataset/Processed_Data_Dir\n",
      "total 12173440\n",
      " 619968 BRUT_p1.csv\n",
      " 109024 yelp_academic_dataset_business.csv\n",
      " 134992 \u001b[31myelp_academic_dataset_business.json\u001b[m\u001b[m\n",
      "  49952 \u001b[31myelp_academic_dataset_checkin.json\u001b[m\u001b[m\n",
      "3794912 \u001b[31myelp_academic_dataset_review.json\u001b[m\u001b[m\n",
      "1637640 \u001b[31myelp_academic_dataset_review_p1.json\u001b[m\u001b[m\n",
      "1629472 \u001b[31myelp_academic_dataset_review_p2.json\u001b[m\u001b[m\n",
      "1580952 \u001b[31myelp_academic_dataset_review_p3.json\u001b[m\u001b[m\n",
      "1665400 \u001b[31myelp_academic_dataset_review_p4.json\u001b[m\u001b[m\n",
      " 233008 \u001b[31myelp_academic_dataset_tip.json\u001b[m\u001b[m\n",
      " 255360 yelp_academic_dataset_user.csv\n",
      " 462760 \u001b[31myelp_academic_dataset_user.json\u001b[m\u001b[m\n"
     ]
    }
   ],
   "source": [
    "YELP_RAW_JSON_DATA_DIR = '../yelp_dataset_challenge_academic_dataset'\n",
    "PROCESSED_YELP_JSON_DATA_DIR = '../yelp_dataset_challenge_academic_dataset/Processed_Data_Dir'\n",
    "YELP_CSV_DATA_DIR = PROCESSED_YELP_JSON_DATA_DIR\n",
    "\n",
    "!mkdir -p $YELP_RAW_JSON_DATA_DIR\n",
    "!mkdir -p $YELP_CSV_DATA_DIR\n",
    "!echo YELP_RAW_JSON_DATA_DIR : $YELP_RAW_JSON_DATA_DIR\n",
    "!ls -sh $YELP_RAW_JSON_DATA_DIR\n",
    "!echo\n",
    "!echo PROCESSED_YELP_JSON_DATA_DIR : $PROCESSED_YELP_JSON_DATA_DIR\n",
    "!ls -sh $PROCESSED_YELP_JSON_DATA_DIR\n",
    "!echo\n",
    "!echo YELP_CSV_DATA_DIR : $YELP_CSV_DATA_DIR\n",
    "!ls -sh $YELP_CSV_DATA_DIR"
   ]
  },
  {
   "cell_type": "markdown",
   "metadata": {},
   "source": [
    "As there are almost 3,790,560 records for review dataset splitting it into 4 chunks of equal record."
   ]
  },
  {
   "cell_type": "code",
   "execution_count": 16,
   "metadata": {
    "collapsed": true
   },
   "outputs": [],
   "source": [
    "!head -1895280 $YELP_RAW_JSON_DATA_DIR/'yelp_academic_dataset_review.json'  > $YELP_RAW_JSON_DATA_DIR/'yelp_academic_dataset_review_p1.json'\n",
    "!tail -947640 $YELP_RAW_JSON_DATA_DIR/'yelp_academic_dataset_review_p1.json'  > $YELP_RAW_JSON_DATA_DIR/'yelp_academic_dataset_review_p2.json'\n",
    "!head -947640 $YELP_RAW_JSON_DATA_DIR/'yelp_academic_dataset_review.json' > $YELP_RAW_JSON_DATA_DIR/'yelp_academic_dataset_review_p1.json'\n",
    "\n",
    "!tail -1895280 $YELP_RAW_JSON_DATA_DIR/'yelp_academic_dataset_review.json'  > $YELP_RAW_JSON_DATA_DIR/'yelp_academic_dataset_review_p3.json'\n",
    "!head -947640 $YELP_RAW_JSON_DATA_DIR/'yelp_academic_dataset_review_p3.json'  > $YELP_RAW_JSON_DATA_DIR/'yelp_academic_dataset_review_p4.json'\n",
    "!tail -947640 $YELP_RAW_JSON_DATA_DIR/'yelp_academic_dataset_review.json'  > $YELP_RAW_JSON_DATA_DIR/'yelp_academic_dataset_review_p3.json'"
   ]
  },
  {
   "cell_type": "code",
   "execution_count": null,
   "metadata": {
    "collapsed": true
   },
   "outputs": [],
   "source": [
    "%%bash -s $YELP_RAW_JSON_DATA_DIR $PROCESSED_YELP_JSON_DATA_DIR\n",
    "\n",
    "SOURCE_DIR=$1\n",
    "TARGET_DIR=$2\n",
    "\n",
    "echo\n",
    "echo \"RAW DATA: \"\n",
    "echo\n",
    "ls -sh $SOURCE_DIR/*.json\n",
    "\n",
    "#echo\n",
    "#echo \"copying original JSON files into $TARGET_DIR...\"\n",
    "#echo\n",
    "\n",
    "\n",
    "for full_filename in $SOURCE_DIR/*.json ; do \n",
    "    cp $full_filename $TARGET_DIR\n",
    "done\n",
    "\n",
    "#echo\n",
    "#echo \"cleaning the copies of raw data...\"\n",
    "#echo\n",
    "\n",
    "for full_filename in $TARGET_DIR/*.json ; do \n",
    "    sed -i 's/$/,/' $full_filename\n",
    "    sed -i '$ s/,$//' $full_filename\n",
    "    sed -i '1i[' $full_filename\n",
    "    echo ']' >> $full_filename\n",
    "done\n",
    "\n",
    "echo\n",
    "echo \"CLEANED DATA: \"\n",
    "echo\n",
    "ls -sh $TARGET_DIR/*.json"
   ]
  },
  {
   "cell_type": "markdown",
   "metadata": {},
   "source": [
    "<h3>Loading Files from the processed data directory</h3>"
   ]
  },
  {
   "cell_type": "code",
   "execution_count": 23,
   "metadata": {
    "collapsed": true
   },
   "outputs": [],
   "source": [
    "business_json_filename = os.path.join(PROCESSED_YELP_JSON_DATA_DIR, 'yelp_academic_dataset_business.json')\n",
    "business_data_frame = pd.io.json.read_json(business_json_filename)\n",
    "business_data_frame.rename(columns={'name': 'business_name', 'review_count': 'business_review_count', 'stars': 'business_stars'}, inplace=True)"
   ]
  },
  {
   "cell_type": "code",
   "execution_count": 24,
   "metadata": {
    "collapsed": true
   },
   "outputs": [],
   "source": [
    "user_json_filename = os.path.join(PROCESSED_YELP_JSON_DATA_DIR, 'yelp_academic_dataset_user.json')\n",
    "user_data_frame = pd.io.json.read_json(user_json_filename)\n",
    "user_data_frame.rename(columns={'name': 'user_name', 'review_count': 'user_review_count', 'votes': 'user_votes'}, inplace=True)"
   ]
  },
  {
   "cell_type": "code",
   "execution_count": 25,
   "metadata": {
    "collapsed": true
   },
   "outputs": [],
   "source": [
    "review_json_filename = os.path.join(PROCESSED_YELP_JSON_DATA_DIR, 'yelp_academic_dataset_review_p1.json')\n",
    "review_data_frame = pd.io.json.read_json(review_json_filename)\n",
    "review_data_frame.rename(columns={'stars': 'review_stars', 'text': 'review_text', 'date': 'review_date', 'votes': 'review_votes'}, inplace=True)"
   ]
  },
  {
   "cell_type": "code",
   "execution_count": 26,
   "metadata": {
    "collapsed": true
   },
   "outputs": [],
   "source": [
    "tip_json_filename = os.path.join(PROCESSED_YELP_JSON_DATA_DIR, 'yelp_academic_dataset_tip.json')\n",
    "tip_data_frame = pd.io.json.read_json(tip_json_filename)\n",
    "tip_data_frame.rename(columns={'text': 'tip_text', 'date': 'tip_date'}, inplace=True)"
   ]
  },
  {
   "cell_type": "markdown",
   "metadata": {},
   "source": [
    "<h4>Saving these loaded data to CSV now</h4>"
   ]
  },
  {
   "cell_type": "code",
   "execution_count": 27,
   "metadata": {
    "collapsed": true
   },
   "outputs": [],
   "source": [
    "business_csv_filename = os.path.join(YELP_CSV_DATA_DIR, 'yelp_academic_dataset_business.csv')\n",
    "user_csv_filename = os.path.join(YELP_CSV_DATA_DIR, 'yelp_academic_dataset_user.csv')\n",
    "\n",
    "if not os.path.isfile(business_csv_filename):\n",
    "    business_data_frame.to_csv(business_csv_filename, index=False, encoding='utf-8')\n",
    "    \n",
    "if not os.path.isfile(user_csv_filename):\n",
    "    user_data_frame.to_csv(user_csv_filename, index=False, encoding='utf-8')"
   ]
  },
  {
   "cell_type": "markdown",
   "metadata": {},
   "source": [
    "<h4> Merging the dataTables/Frames</h4>"
   ]
  },
  {
   "cell_type": "code",
   "execution_count": 28,
   "metadata": {
    "collapsed": true
   },
   "outputs": [],
   "source": [
    "business_and_review_data_frame = pd.merge(business_data_frame, review_data_frame, on='business_id', how='inner')\n",
    "business_and_user_and_review_data_frame = pd.merge(business_and_review_data_frame, user_data_frame, on ='user_id', how='inner')"
   ]
  },
  {
   "cell_type": "code",
   "execution_count": 29,
   "metadata": {
    "collapsed": false
   },
   "outputs": [
    {
     "data": {
      "text/html": [
       "<div>\n",
       "<table border=\"1\" class=\"dataframe\">\n",
       "  <thead>\n",
       "    <tr style=\"text-align: right;\">\n",
       "      <th></th>\n",
       "      <th>attributes</th>\n",
       "      <th>business_id</th>\n",
       "      <th>categories</th>\n",
       "      <th>city</th>\n",
       "      <th>full_address</th>\n",
       "      <th>hours</th>\n",
       "      <th>latitude</th>\n",
       "      <th>longitude</th>\n",
       "      <th>business_name</th>\n",
       "      <th>neighborhoods</th>\n",
       "      <th>...</th>\n",
       "      <th>friends</th>\n",
       "      <th>user_name</th>\n",
       "      <th>user_review_count</th>\n",
       "      <th>type_x</th>\n",
       "      <th>user_votes</th>\n",
       "      <th>yelping_since</th>\n",
       "      <th>tip_date</th>\n",
       "      <th>likes</th>\n",
       "      <th>tip_text</th>\n",
       "      <th>type_y</th>\n",
       "    </tr>\n",
       "  </thead>\n",
       "  <tbody>\n",
       "    <tr>\n",
       "      <th>0</th>\n",
       "      <td>{}</td>\n",
       "      <td>6c2pWWtdQZA3w5raX6k-dg</td>\n",
       "      <td>[Barbers, Beauty &amp; Spas]</td>\n",
       "      <td>Homestead</td>\n",
       "      <td>3510 Main St\\nHomestead, PA 15120</td>\n",
       "      <td>{u'Tuesday': {u'close': u'17:30', u'open': u'0...</td>\n",
       "      <td>40.385508</td>\n",
       "      <td>-79.903491</td>\n",
       "      <td>Carmine's Barber Shop</td>\n",
       "      <td>[]</td>\n",
       "      <td>...</td>\n",
       "      <td>[DsN2dJ6SnTEACr1qC5zpGg, UD7Y1CqfY6mDmRwIuCf6n...</td>\n",
       "      <td>Kevin</td>\n",
       "      <td>47</td>\n",
       "      <td>user</td>\n",
       "      <td>{u'funny': 8, u'useful': 46, u'cool': 10}</td>\n",
       "      <td>2011-11</td>\n",
       "      <td>2014-07-14</td>\n",
       "      <td>0</td>\n",
       "      <td>I've been told that they do open at 4 AM and i...</td>\n",
       "      <td>tip</td>\n",
       "    </tr>\n",
       "    <tr>\n",
       "      <th>1</th>\n",
       "      <td>{u'Alcohol': u'beer_and_wine', u'Noise Level':...</td>\n",
       "      <td>Q4ULAiIE2qCA4RYplCTrUQ</td>\n",
       "      <td>[Nightlife, Bars, Sandwiches, Restaurants]</td>\n",
       "      <td>Pittsburgh</td>\n",
       "      <td>46 18th St\\nStrip District\\nPittsburgh, PA 15222</td>\n",
       "      <td>{u'Monday': {u'close': u'06:00', u'open': u'06...</td>\n",
       "      <td>40.450742</td>\n",
       "      <td>-79.985538</td>\n",
       "      <td>Primanti Brothers</td>\n",
       "      <td>[Strip District]</td>\n",
       "      <td>...</td>\n",
       "      <td>[DsN2dJ6SnTEACr1qC5zpGg, UD7Y1CqfY6mDmRwIuCf6n...</td>\n",
       "      <td>Kevin</td>\n",
       "      <td>47</td>\n",
       "      <td>user</td>\n",
       "      <td>{u'funny': 8, u'useful': 46, u'cool': 10}</td>\n",
       "      <td>2011-11</td>\n",
       "      <td>2015-10-21</td>\n",
       "      <td>0</td>\n",
       "      <td>They take credit cards now!</td>\n",
       "      <td>tip</td>\n",
       "    </tr>\n",
       "    <tr>\n",
       "      <th>2</th>\n",
       "      <td>{u'Take-out': True, u'Price Range': 2, u'Outdo...</td>\n",
       "      <td>1qCuOcks5HRv67OHovAVpg</td>\n",
       "      <td>[Pubs, Bars, American (New), Nightlife, Restau...</td>\n",
       "      <td>Homestead</td>\n",
       "      <td>122 W 8th Ave\\nHomestead\\nHomestead, PA 15120</td>\n",
       "      <td>{}</td>\n",
       "      <td>40.405311</td>\n",
       "      <td>-79.912595</td>\n",
       "      <td>Duke's Upper Deck Cafe</td>\n",
       "      <td>[Homestead]</td>\n",
       "      <td>...</td>\n",
       "      <td>[fwsJGulnozT2U6FefsLiFw, Dsh4UCo9ny0XCrEJaF4aK...</td>\n",
       "      <td>Molly</td>\n",
       "      <td>146</td>\n",
       "      <td>user</td>\n",
       "      <td>{u'funny': 36, u'useful': 136, u'cool': 70}</td>\n",
       "      <td>2012-06</td>\n",
       "      <td>2014-10-18</td>\n",
       "      <td>0</td>\n",
       "      <td>Half priced appetizers after 9 on week nights.</td>\n",
       "      <td>tip</td>\n",
       "    </tr>\n",
       "    <tr>\n",
       "      <th>3</th>\n",
       "      <td>{u'Alcohol': u'beer_and_wine', u'Open 24 Hours...</td>\n",
       "      <td>2X5G4Ujq0s4Wfn4TC7gX0g</td>\n",
       "      <td>[Pubs, Bars, Hot Dogs, Nightlife, Restaurants]</td>\n",
       "      <td>Pittsburgh</td>\n",
       "      <td>1118 S Braddock Ave\\nPittsburgh, PA 15218</td>\n",
       "      <td>{u'Monday': {u'close': u'23:00', u'open': u'11...</td>\n",
       "      <td>40.432022</td>\n",
       "      <td>-79.893834</td>\n",
       "      <td>D's Six Pax &amp; Dogz</td>\n",
       "      <td>[]</td>\n",
       "      <td>...</td>\n",
       "      <td>[fwsJGulnozT2U6FefsLiFw, Dsh4UCo9ny0XCrEJaF4aK...</td>\n",
       "      <td>Molly</td>\n",
       "      <td>146</td>\n",
       "      <td>user</td>\n",
       "      <td>{u'funny': 36, u'useful': 136, u'cool': 70}</td>\n",
       "      <td>2012-06</td>\n",
       "      <td>2014-10-18</td>\n",
       "      <td>0</td>\n",
       "      <td>The special hummus is always good. Take a brea...</td>\n",
       "      <td>tip</td>\n",
       "    </tr>\n",
       "    <tr>\n",
       "      <th>4</th>\n",
       "      <td>{u'Good for Kids': True}</td>\n",
       "      <td>cE27W9VPgO88Qxe4ol6y_g</td>\n",
       "      <td>[Active Life, Mini Golf, Golf]</td>\n",
       "      <td>Bethel Park</td>\n",
       "      <td>1530 Hamilton Rd\\nBethel Park, PA 15234</td>\n",
       "      <td>{}</td>\n",
       "      <td>40.354115</td>\n",
       "      <td>-80.014660</td>\n",
       "      <td>Cool Springs Golf Center</td>\n",
       "      <td>[]</td>\n",
       "      <td>...</td>\n",
       "      <td>[nEYPahVwXGD2Pjvgkm7QqQ, ukf5AhPo3dJhEWB2km-St...</td>\n",
       "      <td>Andrew</td>\n",
       "      <td>29</td>\n",
       "      <td>user</td>\n",
       "      <td>{u'funny': 18, u'useful': 61, u'cool': 11}</td>\n",
       "      <td>2012-11</td>\n",
       "      <td>2013-04-18</td>\n",
       "      <td>0</td>\n",
       "      <td>Don't waste your time.</td>\n",
       "      <td>tip</td>\n",
       "    </tr>\n",
       "  </tbody>\n",
       "</table>\n",
       "<p>5 rows × 36 columns</p>\n",
       "</div>"
      ],
      "text/plain": [
       "                                          attributes             business_id  \\\n",
       "0                                                 {}  6c2pWWtdQZA3w5raX6k-dg   \n",
       "1  {u'Alcohol': u'beer_and_wine', u'Noise Level':...  Q4ULAiIE2qCA4RYplCTrUQ   \n",
       "2  {u'Take-out': True, u'Price Range': 2, u'Outdo...  1qCuOcks5HRv67OHovAVpg   \n",
       "3  {u'Alcohol': u'beer_and_wine', u'Open 24 Hours...  2X5G4Ujq0s4Wfn4TC7gX0g   \n",
       "4                           {u'Good for Kids': True}  cE27W9VPgO88Qxe4ol6y_g   \n",
       "\n",
       "                                          categories         city  \\\n",
       "0                           [Barbers, Beauty & Spas]    Homestead   \n",
       "1         [Nightlife, Bars, Sandwiches, Restaurants]   Pittsburgh   \n",
       "2  [Pubs, Bars, American (New), Nightlife, Restau...    Homestead   \n",
       "3     [Pubs, Bars, Hot Dogs, Nightlife, Restaurants]   Pittsburgh   \n",
       "4                     [Active Life, Mini Golf, Golf]  Bethel Park   \n",
       "\n",
       "                                       full_address  \\\n",
       "0                 3510 Main St\\nHomestead, PA 15120   \n",
       "1  46 18th St\\nStrip District\\nPittsburgh, PA 15222   \n",
       "2     122 W 8th Ave\\nHomestead\\nHomestead, PA 15120   \n",
       "3         1118 S Braddock Ave\\nPittsburgh, PA 15218   \n",
       "4           1530 Hamilton Rd\\nBethel Park, PA 15234   \n",
       "\n",
       "                                               hours   latitude  longitude  \\\n",
       "0  {u'Tuesday': {u'close': u'17:30', u'open': u'0...  40.385508 -79.903491   \n",
       "1  {u'Monday': {u'close': u'06:00', u'open': u'06...  40.450742 -79.985538   \n",
       "2                                                 {}  40.405311 -79.912595   \n",
       "3  {u'Monday': {u'close': u'23:00', u'open': u'11...  40.432022 -79.893834   \n",
       "4                                                 {}  40.354115 -80.014660   \n",
       "\n",
       "              business_name     neighborhoods  ...    \\\n",
       "0     Carmine's Barber Shop                []  ...     \n",
       "1         Primanti Brothers  [Strip District]  ...     \n",
       "2    Duke's Upper Deck Cafe       [Homestead]  ...     \n",
       "3        D's Six Pax & Dogz                []  ...     \n",
       "4  Cool Springs Golf Center                []  ...     \n",
       "\n",
       "                                             friends  user_name  \\\n",
       "0  [DsN2dJ6SnTEACr1qC5zpGg, UD7Y1CqfY6mDmRwIuCf6n...      Kevin   \n",
       "1  [DsN2dJ6SnTEACr1qC5zpGg, UD7Y1CqfY6mDmRwIuCf6n...      Kevin   \n",
       "2  [fwsJGulnozT2U6FefsLiFw, Dsh4UCo9ny0XCrEJaF4aK...      Molly   \n",
       "3  [fwsJGulnozT2U6FefsLiFw, Dsh4UCo9ny0XCrEJaF4aK...      Molly   \n",
       "4  [nEYPahVwXGD2Pjvgkm7QqQ, ukf5AhPo3dJhEWB2km-St...     Andrew   \n",
       "\n",
       "   user_review_count type_x                                   user_votes  \\\n",
       "0                 47   user    {u'funny': 8, u'useful': 46, u'cool': 10}   \n",
       "1                 47   user    {u'funny': 8, u'useful': 46, u'cool': 10}   \n",
       "2                146   user  {u'funny': 36, u'useful': 136, u'cool': 70}   \n",
       "3                146   user  {u'funny': 36, u'useful': 136, u'cool': 70}   \n",
       "4                 29   user   {u'funny': 18, u'useful': 61, u'cool': 11}   \n",
       "\n",
       "  yelping_since   tip_date  likes  \\\n",
       "0       2011-11 2014-07-14      0   \n",
       "1       2011-11 2015-10-21      0   \n",
       "2       2012-06 2014-10-18      0   \n",
       "3       2012-06 2014-10-18      0   \n",
       "4       2012-11 2013-04-18      0   \n",
       "\n",
       "                                            tip_text type_y  \n",
       "0  I've been told that they do open at 4 AM and i...    tip  \n",
       "1                        They take credit cards now!    tip  \n",
       "2     Half priced appetizers after 9 on week nights.    tip  \n",
       "3  The special hummus is always good. Take a brea...    tip  \n",
       "4                             Don't waste your time.    tip  \n",
       "\n",
       "[5 rows x 36 columns]"
      ]
     },
     "execution_count": 29,
     "metadata": {},
     "output_type": "execute_result"
    }
   ],
   "source": [
    "BRUT_data_frame = pd.merge(business_and_user_and_review_data_frame, tip_data_frame, on=['user_id', 'business_id'], how='inner')\n",
    "#BRUT_data_frame.head()"
   ]
  },
  {
   "cell_type": "markdown",
   "metadata": {},
   "source": [
    "<h3>Discarding unused Python variables that are taking too much RAM</h3>\n",
    "\n",
    "using the xdel or reset_selective magics"
   ]
  },
  {
   "cell_type": "code",
   "execution_count": 30,
   "metadata": {
    "collapsed": true
   },
   "outputs": [],
   "source": [
    "%xdel business_and_review_data_frame"
   ]
  },
  {
   "cell_type": "code",
   "execution_count": 31,
   "metadata": {
    "collapsed": false
   },
   "outputs": [
    {
     "name": "stdout",
     "output_type": "stream",
     "text": [
      "Once deleted, variables cannot be recovered. Proceed (y/[n])?  y\n"
     ]
    }
   ],
   "source": [
    "%reset_selective business_and_user_and_review_data_frame"
   ]
  },
  {
   "cell_type": "code",
   "execution_count": 32,
   "metadata": {
    "collapsed": false
   },
   "outputs": [
    {
     "name": "stdout",
     "output_type": "stream",
     "text": [
      "Once deleted, variables cannot be recovered. Proceed (y/[n])?  y\n",
      "Once deleted, variables cannot be recovered. Proceed (y/[n])?  y\n",
      "Once deleted, variables cannot be recovered. Proceed (y/[n])?  y\n",
      "Once deleted, variables cannot be recovered. Proceed (y/[n])?  y\n"
     ]
    }
   ],
   "source": [
    "%reset_selective business_data_frame\n",
    "%reset_selective user_data_frame\n",
    "%reset_selective review_data_frame\n",
    "%reset_selective tip_data_frame"
   ]
  },
  {
   "cell_type": "markdown",
   "metadata": {},
   "source": [
    "<h3>Merging dataFrame with the reviews (including the Tip records) instead and naming it BRUT</h3>"
   ]
  },
  {
   "cell_type": "code",
   "execution_count": 5,
   "metadata": {
    "collapsed": false
   },
   "outputs": [
    {
     "name": "stdout",
     "output_type": "stream",
     "text": [
      "619968 ../yelp_dataset_challenge_academic_dataset/Processed_Data_Dir/BRUT_p1.csv\r\n"
     ]
    }
   ],
   "source": [
    "BRUT_csv_filename = os.path.join(YELP_CSV_DATA_DIR, 'BRUT_p1.csv')\n",
    "\n",
    "if not os.path.isfile(BRUT_csv_filename):\n",
    "    BRUT_data_frame.to_csv(BRUT_csv_filename, index=False, encoding='utf-8')\n",
    "else:\n",
    "    BRUT_data_frame = pd.read_csv(BRUT_csv_filename)\n",
    "    \n",
    "!ls -sh $BRUT_csv_filename"
   ]
  },
  {
   "cell_type": "code",
   "execution_count": null,
   "metadata": {
    "collapsed": true
   },
   "outputs": [],
   "source": []
  }
 ],
 "metadata": {
  "kernelspec": {
   "display_name": "Python 2",
   "language": "python",
   "name": "python2"
  },
  "language_info": {
   "codemirror_mode": {
    "name": "ipython",
    "version": 2
   },
   "file_extension": ".py",
   "mimetype": "text/x-python",
   "name": "python",
   "nbconvert_exporter": "python",
   "pygments_lexer": "ipython2",
   "version": "2.7.11"
  }
 },
 "nbformat": 4,
 "nbformat_minor": 0
}
